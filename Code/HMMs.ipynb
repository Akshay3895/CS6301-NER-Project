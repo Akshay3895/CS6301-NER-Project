{
 "cells": [
  {
   "cell_type": "code",
   "execution_count": null,
   "metadata": {
    "id": "pZeCh2040R4j"
   },
   "outputs": [],
   "source": [
    "import bz2"
   ]
  },
  {
   "cell_type": "code",
   "execution_count": null,
   "metadata": {
    "colab": {
     "base_uri": "https://localhost:8080/"
    },
    "id": "unRjIJnVClzb",
    "outputId": "f497fe5b-f156-4adc-8034-db64119d1e95"
   },
   "outputs": [],
   "source": [
    "!pip install hmmlearn==\"0.2.5\" evaluate seqeval"
   ]
  },
  {
   "cell_type": "code",
   "execution_count": null,
   "metadata": {
    "colab": {
     "base_uri": "https://localhost:8080/",
     "height": 49,
     "referenced_widgets": [
      "7374ea948d614573b908cfef217f5725",
      "05526dfce3554498a6b8f294f87c7e98",
      "cb566adab636457da19846aa7704a391",
      "4417e205542743a090cbc988c8b66610",
      "b68baf83b29f446aa256dd22cf1c7bbf",
      "9b92de8c64834fd9b67d4b80a6ec72fb",
      "e3ed90178fe2434daf16e7bd503224ae",
      "bee3ead6a0044a85bf4439b3e62c7a57",
      "c50d6f9cbdb04c698e00571cdde97371",
      "9764009807564950aeb8b632255a9dd4",
      "ab92e94379b045a29b5cbafddb7d83ce"
     ]
    },
    "id": "zapjS2Fo26M8",
    "outputId": "723e4d35-c35e-44ef-fc25-be23241c55bb"
   },
   "outputs": [],
   "source": [
    "import random\n",
    "import pandas as pd\n",
    "import numpy as np\n",
    "from hmmlearn import hmm\n",
    "import evaluate\n",
    "seqeval = evaluate.load('seqeval')"
   ]
  },
  {
   "cell_type": "code",
   "execution_count": null,
   "metadata": {
    "id": "FkTUXo_42Kqv"
   },
   "outputs": [],
   "source": [
    "token_docs = []\n",
    "tag_docs = []\n",
    "datasets = [\"aij-wikiner-en-wp2.bz2\", \"aij-wikiner-en-wp3.bz2\"]\n",
    "\n",
    "for dataset in datasets:\n",
    "    with bz2.open(f\"../Data/{dataset}\", \"rb\") as bz_file:\n",
    "        docs = bz_file.readlines()\n",
    "        for doc in docs:\n",
    "            doc = doc.strip().decode()\n",
    "            if len(doc) <= 1:\n",
    "                continue\n",
    "\n",
    "            tokens = []\n",
    "            tags_l = []\n",
    "\n",
    "            for seq in doc.split(\" \"):\n",
    "\n",
    "                token, pos, tag = seq.split(\"|\")\n",
    "\n",
    "                tokens.append(token)\n",
    "                tags_l.append(tag)\n",
    "\n",
    "            token_docs.append(tokens)\n",
    "            tag_docs.append(tags_l)"
   ]
  },
  {
   "cell_type": "code",
   "execution_count": null,
   "metadata": {
    "id": "6apA6Q-u2QBN"
   },
   "outputs": [],
   "source": [
    "texts, tags_l = token_docs, tag_docs"
   ]
  },
  {
   "cell_type": "code",
   "execution_count": null,
   "metadata": {
    "colab": {
     "base_uri": "https://localhost:8080/"
    },
    "id": "N8w3q_CM2d7s",
    "outputId": "e3c4447e-384d-4843-c7ea-73839b96416f"
   },
   "outputs": [],
   "source": [
    "print((f\"Total amount of data = {len(texts)}\"))\n",
    "data_perc = round(len(texts) * 0.25)\n",
    "print(f\"Current sample of data = {data_perc}\")\n",
    "\n",
    "random.seed(100)\n",
    "random_samples = random.sample(range(0, len(texts)), data_perc)\n",
    "print(f\"First sample index = {random_samples[0]}\") ## 76372\n",
    "texts, tags_l = [token_docs[i] for i in random_samples], [tag_docs[i] for i in random_samples]"
   ]
  },
  {
   "cell_type": "code",
   "execution_count": null,
   "metadata": {
    "colab": {
     "base_uri": "https://localhost:8080/"
    },
    "id": "cEYMoesCtxC6",
    "outputId": "13297055-4532-4f27-b231-069eeadf5c33"
   },
   "outputs": [],
   "source": [
    "# To calculate max len of sentences\n",
    "m_len = 0\n",
    "for i in texts:\n",
    "    m_len = max(m_len, len(i))\n",
    "print(f\"Largest sentence by length = {m_len}\")"
   ]
  },
  {
   "cell_type": "code",
   "execution_count": null,
   "metadata": {
    "id": "pRu-k6AIJHze"
   },
   "outputs": [],
   "source": [
    "whole_data = []\n",
    "for i, sentence in enumerate(texts):\n",
    "    for j, word in enumerate(sentence):\n",
    "        entry = {\"sentence\": f\"Sentence : {i}\", \"Word\": word, \"Tag\": tags_l[i][j]}\n",
    "        whole_data.append(entry)\n",
    "whole_data = pd.DataFrame(whole_data)"
   ]
  },
  {
   "cell_type": "code",
   "execution_count": null,
   "metadata": {
    "colab": {
     "base_uri": "https://localhost:8080/"
    },
    "id": "51ghsE5iJrVj",
    "outputId": "6617b0b1-7caa-417c-dda3-3c395620f687"
   },
   "outputs": [],
   "source": [
    "tags = list(set(whole_data.Tag.values)) #Read Entity values\n",
    "words = list(set(whole_data.Word.values))\n",
    "len(tags), len(words)"
   ]
  },
  {
   "cell_type": "code",
   "execution_count": null,
   "metadata": {
    "colab": {
     "base_uri": "https://localhost:8080/"
    },
    "id": "9kX4dkTJ3BFi",
    "outputId": "0d1a755a-c3df-444a-dcae-d9588bea77d2"
   },
   "outputs": [],
   "source": [
    "from sklearn.model_selection import train_test_split\n",
    "\n",
    "train_texts, test_texts, train_tags, test_tags = train_test_split(texts, tags_l, test_size=.1,random_state=100)\n",
    "\n",
    "train_texts, val_texts, train_tags, val_tags = train_test_split(train_texts, train_tags, test_size=.1,random_state=100)\n",
    "\n",
    "train_perc = round( 100 * (len(train_texts)/len(texts)))\n",
    "val_perc = round( 100 * (len(val_texts)/len(texts)))\n",
    "test_perc = round( 100 * (len(test_texts)/len(texts)))\n",
    "\n",
    "\n",
    "print(f\"{train_perc}% of data is TRAINING\")\n",
    "print(f\"{val_perc}% of data is VALIDATION\")\n",
    "print(f\"{test_perc}% of data is TESTING\")"
   ]
  },
  {
   "cell_type": "code",
   "execution_count": null,
   "metadata": {
    "id": "1BUbUS0V3FwH"
   },
   "outputs": [],
   "source": [
    "train_dataset = []\n",
    "for i, sentence in enumerate(train_texts):\n",
    "    for j, word in enumerate(sentence):\n",
    "        entry = {\"sentence\": f\"Sentence : {i}\", \"Word\": word, \"Tag\": train_tags[i][j]}\n",
    "        train_dataset.append(entry)\n",
    "train_dataset = pd.DataFrame(train_dataset)"
   ]
  },
  {
   "cell_type": "code",
   "execution_count": null,
   "metadata": {
    "colab": {
     "base_uri": "https://localhost:8080/"
    },
    "id": "YdL4MI4hKtEU",
    "outputId": "bc3d84e5-fc00-4eba-8e56-8974abe3b68b"
   },
   "outputs": [],
   "source": [
    "tags = list(set(train_dataset.Tag.values)) #Read Entity values\n",
    "words = list(set(train_dataset.Word.values))\n",
    "len(tags), len(words)"
   ]
  },
  {
   "cell_type": "code",
   "execution_count": null,
   "metadata": {
    "colab": {
     "base_uri": "https://localhost:8080/"
    },
    "id": "KfxFxerlKuiw",
    "outputId": "556352e4-c236-4d1c-ce98-b7fd58dc01fa"
   },
   "outputs": [],
   "source": [
    "## Need to add some UNKNOWN words as there may be words in the test set that are not present in train set\n",
    "## Using a certain percentage as random\n",
    "dfupdate = train_dataset.sample(frac=.02, replace=False, random_state=42)\n",
    "dfupdate.Word = 'UNKNOWN'\n",
    "train_dataset.update(dfupdate)\n",
    "\n",
    "words = list(set(train_dataset.Word.values))\n",
    "\n",
    "# Convert words and tags into numbers\n",
    "word2id = {w: i for i, w in enumerate(words)}\n",
    "tag2id = {t: i for i, t in enumerate(tags)}\n",
    "id2tag = {i: t for i, t in enumerate(tags)}\n",
    "len(tags), len(words)"
   ]
  },
  {
   "cell_type": "code",
   "execution_count": null,
   "metadata": {
    "id": "dj9WxvxaG84v"
   },
   "outputs": [],
   "source": [
    "test_dataset = []\n",
    "for i, sentence in enumerate(test_texts):\n",
    "    for j, word in enumerate(sentence):\n",
    "        entry = {\"sentence\": f\"Sentence : {i}\", \"Word\": word, \"Tag\": test_tags[i][j]}\n",
    "        test_dataset.append(entry)\n",
    "test_dataset = pd.DataFrame(test_dataset)"
   ]
  },
  {
   "cell_type": "code",
   "execution_count": null,
   "metadata": {
    "id": "FFis6Fod5E1x"
   },
   "outputs": [],
   "source": [
    "val_dataset = []\n",
    "for i, sentence in enumerate(val_texts):\n",
    "    for j, word in enumerate(sentence):\n",
    "        entry = {\"sentence\": f\"Sentence : {i}\", \"Word\": word, \"Tag\": val_tags[i][j]}\n",
    "        val_dataset.append(entry)\n",
    "val_dataset = pd.DataFrame(val_dataset)"
   ]
  },
  {
   "cell_type": "code",
   "execution_count": null,
   "metadata": {
    "id": "FlX7MH0X6wM1"
   },
   "outputs": [],
   "source": [
    "count_tags = dict(train_dataset.Tag.value_counts()) # Total number of Entity tags"
   ]
  },
  {
   "cell_type": "code",
   "execution_count": null,
   "metadata": {
    "id": "i8pi3nqU6_cl"
   },
   "outputs": [],
   "source": [
    "count_tags_to_words = train_dataset.groupby(['Tag']).apply(lambda grp: grp.groupby('Word')['Tag'].count().to_dict()).to_dict() # Count of word given a tag\n",
    "count_init_tags = dict(train_dataset.groupby('sentence').first().Tag.value_counts()) # Count of tags that come first in the sentence"
   ]
  },
  {
   "cell_type": "code",
   "execution_count": null,
   "metadata": {
    "id": "jZPb4cqr8R6y"
   },
   "outputs": [],
   "source": [
    "count_tags_to_next_tags = np.zeros((len(tags), len(tags)), dtype=int) # Transition Matrix\n",
    "sentences = list(train_dataset.sentence)\n",
    "ner = list(train_dataset.Tag)\n",
    "for i in range(len(sentences)) :\n",
    "    if (i > 0) and (sentences[i] == sentences[i - 1]): # Check if word is from the same sentence\n",
    "        prevtagid = tag2id[ner[i - 1]]\n",
    "        nexttagid = tag2id[ner[i]]\n",
    "        count_tags_to_next_tags[prevtagid][nexttagid] += 1"
   ]
  },
  {
   "cell_type": "code",
   "execution_count": null,
   "metadata": {
    "id": "Ckk8kaeN9JVs"
   },
   "outputs": [],
   "source": [
    "mystartprob = np.zeros((len(tags),)) # Probability of tag|(start of sent)\n",
    "mytransmat = np.zeros((len(tags), len(tags))) # Probability of Tag(i)|Tag(i-1)\n",
    "myemissionprob = np.zeros((len(tags), len(words))) # Probability of word|tag\n",
    "num_sentences = sum(count_init_tags.values())\n",
    "sum_tags_to_next_tags = np.sum(count_tags_to_next_tags, axis=1)\n",
    "for tag, tagid in tag2id.items():\n",
    "    floatCountTag = float(count_tags.get(tag, 0))\n",
    "    mystartprob[tagid] = count_init_tags.get(tag, 0) / num_sentences\n",
    "    for word, wordid in word2id.items():\n",
    "        myemissionprob[tagid][wordid]= count_tags_to_words.get(tag, {}).get(word, 0) / floatCountTag\n",
    "    for tag2, tagid2 in tag2id.items():\n",
    "        mytransmat[tagid][tagid2]= count_tags_to_next_tags[tagid][tagid2] / sum_tags_to_next_tags[tagid]"
   ]
  },
  {
   "cell_type": "code",
   "execution_count": null,
   "metadata": {
    "id": "SF819mMYRjZ0"
   },
   "outputs": [],
   "source": [
    "model = hmm.MultinomialHMM(n_components=len(tags), algorithm='viterbi', random_state=42)\n",
    "\n",
    "model.startprob_ = mystartprob\n",
    "model.transmat_ = mytransmat\n",
    "model.emissionprob_ = myemissionprob"
   ]
  },
  {
   "cell_type": "code",
   "execution_count": null,
   "metadata": {
    "id": "cFRKi5zGFigh"
   },
   "outputs": [],
   "source": [
    "## As some words may never appear in the training set, we need to transform them into UNKNOWN first.\n",
    "## Then we split data_test into samples & lengths and send them to HMM.\n",
    "\n",
    "\n",
    "def gen_data_for_predict(dataset):\n",
    "    dataset.loc[~dataset[\"Word\"].isin(words), \"Word\"] = \"UNKNOWN\"\n",
    "    word_test = list(dataset.Word)\n",
    "    samples = []\n",
    "    for i, val in enumerate(word_test):\n",
    "        samples.append([word2id[val]])\n",
    "\n",
    "    # TODO use panda solution\n",
    "    ## This is done to find the length of the sentence\n",
    "    lengths = []\n",
    "    count = 0\n",
    "    sentences = list(dataset.sentence)\n",
    "    for i in range(len(sentences)):\n",
    "        if (i > 0) and (sentences[i] == sentences[i - 1]):\n",
    "            count += 1\n",
    "        elif i > 0:\n",
    "            lengths.append(count)\n",
    "            count = 1\n",
    "        else:\n",
    "            count = 1\n",
    "    lengths.append(count)\n",
    "\n",
    "    return samples, lengths\n",
    "\n",
    "\n",
    "samples_test, lengths_test = gen_data_for_predict(test_dataset)\n",
    "samples_val, lengths_val = gen_data_for_predict(val_dataset)"
   ]
  },
  {
   "cell_type": "code",
   "execution_count": null,
   "metadata": {
    "colab": {
     "base_uri": "https://localhost:8080/"
    },
    "id": "il-5cs-fSl6T",
    "outputId": "24476bb4-0606-4256-a2a4-db48162269ce"
   },
   "outputs": [],
   "source": [
    "print(f\"Length of sample in test= {len(samples_test)}\")\n",
    "print(f\"Cumulative sum of lengths in test= {np.cumsum(lengths_test)[-1]}\")\n",
    "print(f\"Total number of test sentences = {len(lengths_test)}\")"
   ]
  },
  {
   "cell_type": "code",
   "execution_count": null,
   "metadata": {
    "id": "y-DoL2KyHJw_"
   },
   "outputs": [],
   "source": [
    "ner_predict_test = model.predict(samples_test, lengths_test)\n",
    "ner_predict_val = model.predict(samples_val, lengths_val)"
   ]
  },
  {
   "cell_type": "code",
   "execution_count": null,
   "metadata": {
    "colab": {
     "base_uri": "https://localhost:8080/"
    },
    "id": "bOP7FK0S3T7W",
    "outputId": "006f71f3-e2f5-42e8-f047-a3a7f92051cd"
   },
   "outputs": [],
   "source": [
    "print(f\"Total number of word predictions in test = {len(ner_predict_test)}\")"
   ]
  },
  {
   "cell_type": "code",
   "execution_count": null,
   "metadata": {
    "id": "o0u17EorVDmh"
   },
   "outputs": [],
   "source": [
    "def get_tags_from_predict(pred, lengths):\n",
    "    ner_predict_tags = []\n",
    "    prev = 0\n",
    "    for l in lengths:\n",
    "        tag_val = [id2tag[tag_code] for tag_code in pred[prev : prev + l]]\n",
    "        ner_predict_tags.append(tag_val)\n",
    "        prev = l\n",
    "\n",
    "    return ner_predict_tags\n",
    "\n",
    "\n",
    "ner_predict_test_tags = get_tags_from_predict(ner_predict_test, lengths_test)\n",
    "ner_predict_test_vals = get_tags_from_predict(ner_predict_val, lengths_val)"
   ]
  },
  {
   "cell_type": "code",
   "execution_count": null,
   "metadata": {
    "colab": {
     "base_uri": "https://localhost:8080/"
    },
    "id": "NiM1tDDa4egB",
    "outputId": "807e2dad-345f-4f47-a5bf-408310efc05b"
   },
   "outputs": [],
   "source": [
    "_random_index = 900\n",
    "print(_random_index) #900\n",
    "print(test_texts[_random_index])\n",
    "print(test_tags[_random_index])\n",
    "print(ner_predict_test_tags[_random_index])"
   ]
  },
  {
   "cell_type": "code",
   "execution_count": null,
   "metadata": {
    "id": "--DWF_Rei_oF"
   },
   "outputs": [],
   "source": [
    "def get_op_for_pred(test_t, test_tag, hmm_predict, i):\n",
    "    sent = \" \".join(test_t[i])\n",
    "    print(sent)\n",
    "    print(\"\\tACTUAL\")\n",
    "    print(\"\\t______\")\n",
    "    print()\n",
    "    for j, tag in enumerate(test_tag[i]):\n",
    "        if tag != \"O\":\n",
    "            print(f\"\\t\\t{test_t[i][j]} {tag}\")\n",
    "    print()\n",
    "    print(\"\\tPREDICTION\")\n",
    "    print(\"\\t__________\")\n",
    "    print()\n",
    "    for j, tag in enumerate(hmm_predict[i]):\n",
    "        if tag != \"O\":\n",
    "            print(f\"\\t\\t{test_t[i][j]} {tag}\")"
   ]
  },
  {
   "cell_type": "code",
   "execution_count": null,
   "metadata": {
    "colab": {
     "base_uri": "https://localhost:8080/"
    },
    "id": "Rut7Yc_Xhz8Z",
    "outputId": "9a0736d1-0974-4cf7-e164-b1d65a274a48"
   },
   "outputs": [],
   "source": [
    "get_op_for_pred(test_texts,test_tags,ner_predict_test_tags,_random_index)"
   ]
  },
  {
   "cell_type": "code",
   "execution_count": null,
   "metadata": {
    "id": "Fe4m0hGv1Vb6"
   },
   "outputs": [],
   "source": [
    "result_test = seqeval.compute(predictions=ner_predict_test_tags, references=test_tags,mode=\"strict\",scheme=\"IOB1\")\n",
    "result_val = seqeval.compute(predictions=ner_predict_test_vals, references=val_tags,mode=\"strict\",scheme=\"IOB1\")"
   ]
  },
  {
   "cell_type": "code",
   "execution_count": null,
   "metadata": {
    "id": "i62rVZ6Bz4Zn"
   },
   "outputs": [],
   "source": [
    "def generate_metric_csv(result, csv_name):\n",
    "    ## result is the o/p obtained from seqeval.compute\n",
    "    test_metrics = []\n",
    "    for key in result.keys():\n",
    "        metric = {}\n",
    "        if key in [\"LOC\", \"MISC\", \"ORG\", \"PER\"]:\n",
    "            for _m in result[key].keys():\n",
    "                if _m in [\"precision\", \"recall\", \"f1\"]:\n",
    "                    metric[\"metric\"] = f\"{key}_{_m}\"\n",
    "                    metric[\"val\"] = round(result[key][_m], 4)\n",
    "        else:\n",
    "            metric[\"metric\"] = key\n",
    "            metric[\"val\"] = round(result[key], 4)\n",
    "\n",
    "        test_metrics.append(metric)\n",
    "    pd.DataFrame(test_metrics).to_csv(f\"Results/{csv_name}.csv\", index=False)"
   ]
  },
  {
   "cell_type": "code",
   "execution_count": null,
   "metadata": {
    "id": "g4IyzY6c9pgc"
   },
   "outputs": [],
   "source": [
    "generate_metric_csv(result_test,\"test_hmm\")\n",
    "generate_metric_csv(result_val,\"validation_hmm\")"
   ]
  }
 ],
 "metadata": {
  "colab": {
   "collapsed_sections": [
    "Y0ixdvqzqvYs",
    "kd1tjV5nwHNb",
    "D-rO_iWpS2nS"
   ],
   "provenance": []
  },
  "kernelspec": {
   "display_name": "Python 3 (ipykernel)",
   "language": "python",
   "name": "python3"
  },
  "language_info": {
   "codemirror_mode": {
    "name": "ipython",
    "version": 3
   },
   "file_extension": ".py",
   "mimetype": "text/x-python",
   "name": "python",
   "nbconvert_exporter": "python",
   "pygments_lexer": "ipython3",
   "version": "3.7.7"
  },
  "widgets": {
   "application/vnd.jupyter.widget-state+json": {
    "05526dfce3554498a6b8f294f87c7e98": {
     "model_module": "@jupyter-widgets/controls",
     "model_module_version": "1.5.0",
     "model_name": "HTMLModel",
     "state": {
      "_dom_classes": [],
      "_model_module": "@jupyter-widgets/controls",
      "_model_module_version": "1.5.0",
      "_model_name": "HTMLModel",
      "_view_count": null,
      "_view_module": "@jupyter-widgets/controls",
      "_view_module_version": "1.5.0",
      "_view_name": "HTMLView",
      "description": "",
      "description_tooltip": null,
      "layout": "IPY_MODEL_9b92de8c64834fd9b67d4b80a6ec72fb",
      "placeholder": "​",
      "style": "IPY_MODEL_e3ed90178fe2434daf16e7bd503224ae",
      "value": "Downloading builder script: 100%"
     }
    },
    "4417e205542743a090cbc988c8b66610": {
     "model_module": "@jupyter-widgets/controls",
     "model_module_version": "1.5.0",
     "model_name": "HTMLModel",
     "state": {
      "_dom_classes": [],
      "_model_module": "@jupyter-widgets/controls",
      "_model_module_version": "1.5.0",
      "_model_name": "HTMLModel",
      "_view_count": null,
      "_view_module": "@jupyter-widgets/controls",
      "_view_module_version": "1.5.0",
      "_view_name": "HTMLView",
      "description": "",
      "description_tooltip": null,
      "layout": "IPY_MODEL_9764009807564950aeb8b632255a9dd4",
      "placeholder": "​",
      "style": "IPY_MODEL_ab92e94379b045a29b5cbafddb7d83ce",
      "value": " 6.34k/6.34k [00:00&lt;00:00, 91.3kB/s]"
     }
    },
    "7374ea948d614573b908cfef217f5725": {
     "model_module": "@jupyter-widgets/controls",
     "model_module_version": "1.5.0",
     "model_name": "HBoxModel",
     "state": {
      "_dom_classes": [],
      "_model_module": "@jupyter-widgets/controls",
      "_model_module_version": "1.5.0",
      "_model_name": "HBoxModel",
      "_view_count": null,
      "_view_module": "@jupyter-widgets/controls",
      "_view_module_version": "1.5.0",
      "_view_name": "HBoxView",
      "box_style": "",
      "children": [
       "IPY_MODEL_05526dfce3554498a6b8f294f87c7e98",
       "IPY_MODEL_cb566adab636457da19846aa7704a391",
       "IPY_MODEL_4417e205542743a090cbc988c8b66610"
      ],
      "layout": "IPY_MODEL_b68baf83b29f446aa256dd22cf1c7bbf"
     }
    },
    "9764009807564950aeb8b632255a9dd4": {
     "model_module": "@jupyter-widgets/base",
     "model_module_version": "1.2.0",
     "model_name": "LayoutModel",
     "state": {
      "_model_module": "@jupyter-widgets/base",
      "_model_module_version": "1.2.0",
      "_model_name": "LayoutModel",
      "_view_count": null,
      "_view_module": "@jupyter-widgets/base",
      "_view_module_version": "1.2.0",
      "_view_name": "LayoutView",
      "align_content": null,
      "align_items": null,
      "align_self": null,
      "border": null,
      "bottom": null,
      "display": null,
      "flex": null,
      "flex_flow": null,
      "grid_area": null,
      "grid_auto_columns": null,
      "grid_auto_flow": null,
      "grid_auto_rows": null,
      "grid_column": null,
      "grid_gap": null,
      "grid_row": null,
      "grid_template_areas": null,
      "grid_template_columns": null,
      "grid_template_rows": null,
      "height": null,
      "justify_content": null,
      "justify_items": null,
      "left": null,
      "margin": null,
      "max_height": null,
      "max_width": null,
      "min_height": null,
      "min_width": null,
      "object_fit": null,
      "object_position": null,
      "order": null,
      "overflow": null,
      "overflow_x": null,
      "overflow_y": null,
      "padding": null,
      "right": null,
      "top": null,
      "visibility": null,
      "width": null
     }
    },
    "9b92de8c64834fd9b67d4b80a6ec72fb": {
     "model_module": "@jupyter-widgets/base",
     "model_module_version": "1.2.0",
     "model_name": "LayoutModel",
     "state": {
      "_model_module": "@jupyter-widgets/base",
      "_model_module_version": "1.2.0",
      "_model_name": "LayoutModel",
      "_view_count": null,
      "_view_module": "@jupyter-widgets/base",
      "_view_module_version": "1.2.0",
      "_view_name": "LayoutView",
      "align_content": null,
      "align_items": null,
      "align_self": null,
      "border": null,
      "bottom": null,
      "display": null,
      "flex": null,
      "flex_flow": null,
      "grid_area": null,
      "grid_auto_columns": null,
      "grid_auto_flow": null,
      "grid_auto_rows": null,
      "grid_column": null,
      "grid_gap": null,
      "grid_row": null,
      "grid_template_areas": null,
      "grid_template_columns": null,
      "grid_template_rows": null,
      "height": null,
      "justify_content": null,
      "justify_items": null,
      "left": null,
      "margin": null,
      "max_height": null,
      "max_width": null,
      "min_height": null,
      "min_width": null,
      "object_fit": null,
      "object_position": null,
      "order": null,
      "overflow": null,
      "overflow_x": null,
      "overflow_y": null,
      "padding": null,
      "right": null,
      "top": null,
      "visibility": null,
      "width": null
     }
    },
    "ab92e94379b045a29b5cbafddb7d83ce": {
     "model_module": "@jupyter-widgets/controls",
     "model_module_version": "1.5.0",
     "model_name": "DescriptionStyleModel",
     "state": {
      "_model_module": "@jupyter-widgets/controls",
      "_model_module_version": "1.5.0",
      "_model_name": "DescriptionStyleModel",
      "_view_count": null,
      "_view_module": "@jupyter-widgets/base",
      "_view_module_version": "1.2.0",
      "_view_name": "StyleView",
      "description_width": ""
     }
    },
    "b68baf83b29f446aa256dd22cf1c7bbf": {
     "model_module": "@jupyter-widgets/base",
     "model_module_version": "1.2.0",
     "model_name": "LayoutModel",
     "state": {
      "_model_module": "@jupyter-widgets/base",
      "_model_module_version": "1.2.0",
      "_model_name": "LayoutModel",
      "_view_count": null,
      "_view_module": "@jupyter-widgets/base",
      "_view_module_version": "1.2.0",
      "_view_name": "LayoutView",
      "align_content": null,
      "align_items": null,
      "align_self": null,
      "border": null,
      "bottom": null,
      "display": null,
      "flex": null,
      "flex_flow": null,
      "grid_area": null,
      "grid_auto_columns": null,
      "grid_auto_flow": null,
      "grid_auto_rows": null,
      "grid_column": null,
      "grid_gap": null,
      "grid_row": null,
      "grid_template_areas": null,
      "grid_template_columns": null,
      "grid_template_rows": null,
      "height": null,
      "justify_content": null,
      "justify_items": null,
      "left": null,
      "margin": null,
      "max_height": null,
      "max_width": null,
      "min_height": null,
      "min_width": null,
      "object_fit": null,
      "object_position": null,
      "order": null,
      "overflow": null,
      "overflow_x": null,
      "overflow_y": null,
      "padding": null,
      "right": null,
      "top": null,
      "visibility": null,
      "width": null
     }
    },
    "bee3ead6a0044a85bf4439b3e62c7a57": {
     "model_module": "@jupyter-widgets/base",
     "model_module_version": "1.2.0",
     "model_name": "LayoutModel",
     "state": {
      "_model_module": "@jupyter-widgets/base",
      "_model_module_version": "1.2.0",
      "_model_name": "LayoutModel",
      "_view_count": null,
      "_view_module": "@jupyter-widgets/base",
      "_view_module_version": "1.2.0",
      "_view_name": "LayoutView",
      "align_content": null,
      "align_items": null,
      "align_self": null,
      "border": null,
      "bottom": null,
      "display": null,
      "flex": null,
      "flex_flow": null,
      "grid_area": null,
      "grid_auto_columns": null,
      "grid_auto_flow": null,
      "grid_auto_rows": null,
      "grid_column": null,
      "grid_gap": null,
      "grid_row": null,
      "grid_template_areas": null,
      "grid_template_columns": null,
      "grid_template_rows": null,
      "height": null,
      "justify_content": null,
      "justify_items": null,
      "left": null,
      "margin": null,
      "max_height": null,
      "max_width": null,
      "min_height": null,
      "min_width": null,
      "object_fit": null,
      "object_position": null,
      "order": null,
      "overflow": null,
      "overflow_x": null,
      "overflow_y": null,
      "padding": null,
      "right": null,
      "top": null,
      "visibility": null,
      "width": null
     }
    },
    "c50d6f9cbdb04c698e00571cdde97371": {
     "model_module": "@jupyter-widgets/controls",
     "model_module_version": "1.5.0",
     "model_name": "ProgressStyleModel",
     "state": {
      "_model_module": "@jupyter-widgets/controls",
      "_model_module_version": "1.5.0",
      "_model_name": "ProgressStyleModel",
      "_view_count": null,
      "_view_module": "@jupyter-widgets/base",
      "_view_module_version": "1.2.0",
      "_view_name": "StyleView",
      "bar_color": null,
      "description_width": ""
     }
    },
    "cb566adab636457da19846aa7704a391": {
     "model_module": "@jupyter-widgets/controls",
     "model_module_version": "1.5.0",
     "model_name": "FloatProgressModel",
     "state": {
      "_dom_classes": [],
      "_model_module": "@jupyter-widgets/controls",
      "_model_module_version": "1.5.0",
      "_model_name": "FloatProgressModel",
      "_view_count": null,
      "_view_module": "@jupyter-widgets/controls",
      "_view_module_version": "1.5.0",
      "_view_name": "ProgressView",
      "bar_style": "success",
      "description": "",
      "description_tooltip": null,
      "layout": "IPY_MODEL_bee3ead6a0044a85bf4439b3e62c7a57",
      "max": 6338,
      "min": 0,
      "orientation": "horizontal",
      "style": "IPY_MODEL_c50d6f9cbdb04c698e00571cdde97371",
      "value": 6338
     }
    },
    "e3ed90178fe2434daf16e7bd503224ae": {
     "model_module": "@jupyter-widgets/controls",
     "model_module_version": "1.5.0",
     "model_name": "DescriptionStyleModel",
     "state": {
      "_model_module": "@jupyter-widgets/controls",
      "_model_module_version": "1.5.0",
      "_model_name": "DescriptionStyleModel",
      "_view_count": null,
      "_view_module": "@jupyter-widgets/base",
      "_view_module_version": "1.2.0",
      "_view_name": "StyleView",
      "description_width": ""
     }
    }
   }
  }
 },
 "nbformat": 4,
 "nbformat_minor": 1
}
