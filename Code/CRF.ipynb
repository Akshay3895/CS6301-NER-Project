{
 "cells": [
  {
   "cell_type": "code",
   "execution_count": null,
   "metadata": {
    "colab": {
     "base_uri": "https://localhost:8080/"
    },
    "id": "SYlUyD-fgtn-",
    "outputId": "ebfba722-ae45-4296-b326-a29a9a19e149"
   },
   "outputs": [],
   "source": [
    "!pip install evaluate seqeval sklearn-crfsuite"
   ]
  },
  {
   "cell_type": "code",
   "execution_count": null,
   "metadata": {
    "id": "JtPadeD4ArwK"
   },
   "outputs": [],
   "source": [
    "## Reference : https://sklearn-crfsuite.readthedocs.io/en/latest/tutorial.html"
   ]
  },
  {
   "cell_type": "code",
   "execution_count": null,
   "metadata": {
    "colab": {
     "base_uri": "https://localhost:8080/",
     "height": 49,
     "referenced_widgets": [
      "b14cefc9d5874ec2b39f6dc0b5a3c0c8",
      "c406175955194c58bf513c00d5179468",
      "6d7b4fd9865d4c7f8c98a9f8ba9bd7a0",
      "cda383bec8c9464dbf5ab0cbc9e9c882",
      "7ea05dd93e9648218d62c51a437c3ffe",
      "e0bc5937184744ed8fd15dd518229a72",
      "86950d65ab5545ea9c5432ebbb6f4cdc",
      "2db345448c0d41be9325bb2455c1a01f",
      "209d24ade09245e2a4f8f3f04a0bae7a",
      "9184f5746cfb48afa2dd97c6049c08b9",
      "9a7308124e564e38adfb4d1d3504bcfb"
     ]
    },
    "id": "YO39cwMWgmiE",
    "outputId": "30816548-5d7e-40f5-bf34-633875b93519"
   },
   "outputs": [],
   "source": [
    "import bz2\n",
    "import random\n",
    "import pandas as pd\n",
    "import numpy as np\n",
    "from sklearn_crfsuite import CRF\n",
    "import evaluate\n",
    "seqeval = evaluate.load('seqeval')"
   ]
  },
  {
   "cell_type": "code",
   "execution_count": null,
   "metadata": {
    "id": "uS92EhyqgnxS"
   },
   "outputs": [],
   "source": [
    "token_docs = []\n",
    "tag_docs = []\n",
    "datasets = [\"aij-wikiner-en-wp2.bz2\", \"aij-wikiner-en-wp3.bz2\"]\n",
    "\n",
    "for dataset in datasets:\n",
    "    with bz2.open(f\"../Data/{dataset}\", \"rb\") as bz_file:\n",
    "        docs = bz_file.readlines()\n",
    "        for doc in docs:\n",
    "            doc = doc.strip().decode()\n",
    "            if len(doc) <= 1:\n",
    "                continue\n",
    "\n",
    "            tokens = []\n",
    "            tags_l = []\n",
    "\n",
    "            for seq in doc.split(\" \"):\n",
    "\n",
    "                token, pos, tag = seq.split(\"|\")\n",
    "\n",
    "                tokens.append(token)\n",
    "                tags_l.append(tag)\n",
    "\n",
    "            token_docs.append(tokens)\n",
    "            tag_docs.append(tags_l)\n"
   ]
  },
  {
   "cell_type": "code",
   "execution_count": null,
   "metadata": {
    "id": "NnzJK1ASgzEt"
   },
   "outputs": [],
   "source": [
    "texts, tags_l = token_docs, tag_docs"
   ]
  },
  {
   "cell_type": "code",
   "execution_count": null,
   "metadata": {
    "colab": {
     "base_uri": "https://localhost:8080/"
    },
    "id": "N8w3q_CM2d7s",
    "outputId": "128d79c1-8d1f-4feb-ec94-d1fb07ce526b"
   },
   "outputs": [],
   "source": [
    "print((f\"Total amount of data = {len(texts)}\"))\n",
    "data_perc = round(len(texts) * 0.25)\n",
    "print(f\"Current sample of data = {data_perc}\")\n",
    "\n",
    "random.seed(100)\n",
    "random_samples = random.sample(range(0, len(texts)), data_perc)\n",
    "print(f\"First sample index = {random_samples[0]}\") ## 76372\n",
    "texts, tags_l = [token_docs[i] for i in random_samples], [tag_docs[i] for i in random_samples]"
   ]
  },
  {
   "cell_type": "code",
   "execution_count": null,
   "metadata": {
    "colab": {
     "base_uri": "https://localhost:8080/"
    },
    "id": "cEYMoesCtxC6",
    "outputId": "55cebad1-b3d0-42de-bace-13a254ee1ec7"
   },
   "outputs": [],
   "source": [
    "# To calculate max len of sentences\n",
    "m_len = 0\n",
    "for i in texts:\n",
    "    m_len = max(m_len, len(i))\n",
    "print(f\"Largest sentence by length = {m_len}\")"
   ]
  },
  {
   "cell_type": "code",
   "execution_count": null,
   "metadata": {
    "colab": {
     "base_uri": "https://localhost:8080/"
    },
    "id": "9kX4dkTJ3BFi",
    "outputId": "fb0713c1-c522-4612-8b18-d6267eeae00b"
   },
   "outputs": [],
   "source": [
    "from sklearn.model_selection import train_test_split\n",
    "\n",
    "train_texts, test_texts, train_tags, test_tags = train_test_split(texts, tags_l, test_size=.1,random_state=100)\n",
    "\n",
    "train_texts, val_texts, train_tags, val_tags = train_test_split(train_texts, train_tags, test_size=.1,random_state=100)\n",
    "\n",
    "train_perc = round( 100 * (len(train_texts)/len(texts)))\n",
    "val_perc = round( 100 * (len(val_texts)/len(texts)))\n",
    "test_perc = round( 100 * (len(test_texts)/len(texts)))\n",
    "\n",
    "\n",
    "print(f\"{train_perc}% of data is TRAINING\")\n",
    "print(f\"{val_perc}% of data is VALIDATION\")\n",
    "print(f\"{test_perc}% of data is TESTING\")"
   ]
  },
  {
   "cell_type": "code",
   "execution_count": null,
   "metadata": {
    "id": "ug0jYB2thJgd"
   },
   "outputs": [],
   "source": [
    "crf = CRF(\n",
    "\n",
    "      algorithm = 'lbfgs',\n",
    "      c1=0.1, # L1 regularization\n",
    "      c2=0.1, # L2 regularization\n",
    "      max_iterations = 100,\n",
    "      all_possible_transitions = True,\n",
    "      verbose = True\n",
    ")"
   ]
  },
  {
   "cell_type": "code",
   "execution_count": null,
   "metadata": {
    "colab": {
     "base_uri": "https://localhost:8080/"
    },
    "id": "KccEY0Xwi25U",
    "outputId": "96b4f74c-4b30-43ce-a700-e3b6ea9e79be"
   },
   "outputs": [],
   "source": [
    "CRF_model = crf.fit(train_texts,train_tags)"
   ]
  },
  {
   "cell_type": "code",
   "execution_count": null,
   "metadata": {
    "id": "nxWMSwmui4oH"
   },
   "outputs": [],
   "source": [
    "pred_test_tags = crf.predict(test_texts)\n",
    "pred_val_tags = crf.predict(val_texts)"
   ]
  },
  {
   "cell_type": "code",
   "execution_count": null,
   "metadata": {
    "id": "T0aQ3_FGqHWa"
   },
   "outputs": [],
   "source": [
    "result_test = seqeval.compute(predictions=pred_test_tags, references=test_tags,mode=\"strict\",scheme=\"IOB1\")\n",
    "result_val = seqeval.compute(predictions=pred_val_tags, references=val_tags,mode=\"strict\",scheme=\"IOB1\")"
   ]
  },
  {
   "cell_type": "code",
   "execution_count": null,
   "metadata": {
    "id": "66MuTvn_5Yi7"
   },
   "outputs": [],
   "source": [
    "def generate_metric_csv(result, csv_name):\n",
    "    ## result is the o/p obtained from seqeval.compute\n",
    "    test_metrics = []\n",
    "    for key in result.keys():\n",
    "        metric = {}\n",
    "        if key in [\"LOC\", \"MISC\", \"ORG\", \"PER\"]:\n",
    "            for _m in result[key].keys():\n",
    "                if _m in [\"precision\", \"recall\", \"f1\"]:\n",
    "                    metric[\"metric\"] = f\"{key}_{_m}\"\n",
    "                    metric[\"val\"] = round(result[key][_m], 4)\n",
    "        else:\n",
    "            metric[\"metric\"] = key\n",
    "            metric[\"val\"] = round(result[key], 4)\n",
    "\n",
    "        test_metrics.append(metric)\n",
    "    pd.DataFrame(test_metrics).to_csv(f\"Results/{csv_name}.csv\", index=False)"
   ]
  },
  {
   "cell_type": "code",
   "execution_count": null,
   "metadata": {
    "id": "TqgJzTP-qIF9"
   },
   "outputs": [],
   "source": [
    "generate_metric_csv(result_test,\"test_crf\")\n",
    "generate_metric_csv(result_val,\"validation_crf\")"
   ]
  },
  {
   "cell_type": "code",
   "execution_count": null,
   "metadata": {
    "id": "jdCyIJR5BAwB"
   },
   "outputs": [],
   "source": [
    "def get_op_for_pred(test_t, test_tag, crf_predict, i):\n",
    "    sent = \" \".join(test_t[i])\n",
    "    print(sent)\n",
    "    print(\"\\tACTUAL\")\n",
    "    print(\"\\t______\")\n",
    "    print()\n",
    "    for j, tag in enumerate(test_tag[i]):\n",
    "        if tag != \"O\":\n",
    "            print(f\"\\t\\t{test_t[i][j]} {tag}\")\n",
    "    print()\n",
    "    print(\"\\tPREDICTION\")\n",
    "    print(\"\\t__________\")\n",
    "    print()\n",
    "    for j, tag in enumerate(crf_predict[i]):\n",
    "        if tag != \"O\":\n",
    "            print(f\"\\t\\t{test_t[i][j]} {tag}\")"
   ]
  },
  {
   "cell_type": "code",
   "execution_count": null,
   "metadata": {
    "colab": {
     "base_uri": "https://localhost:8080/"
    },
    "id": "5y5gat3bm6x2",
    "outputId": "c5c0b3dd-48e7-450e-b3d1-2c66ed89dbe7"
   },
   "outputs": [],
   "source": [
    "_random_index = 900\n",
    "get_op_for_pred(test_texts,test_tags,pred_test_tags,_random_index)"
   ]
  }
 ],
 "metadata": {
  "colab": {
   "provenance": []
  },
  "kernelspec": {
   "display_name": "Python 3 (ipykernel)",
   "language": "python",
   "name": "python3"
  },
  "language_info": {
   "codemirror_mode": {
    "name": "ipython",
    "version": 3
   },
   "file_extension": ".py",
   "mimetype": "text/x-python",
   "name": "python",
   "nbconvert_exporter": "python",
   "pygments_lexer": "ipython3",
   "version": "3.7.7"
  },
  "widgets": {
   "application/vnd.jupyter.widget-state+json": {
    "209d24ade09245e2a4f8f3f04a0bae7a": {
     "model_module": "@jupyter-widgets/controls",
     "model_module_version": "1.5.0",
     "model_name": "ProgressStyleModel",
     "state": {
      "_model_module": "@jupyter-widgets/controls",
      "_model_module_version": "1.5.0",
      "_model_name": "ProgressStyleModel",
      "_view_count": null,
      "_view_module": "@jupyter-widgets/base",
      "_view_module_version": "1.2.0",
      "_view_name": "StyleView",
      "bar_color": null,
      "description_width": ""
     }
    },
    "2db345448c0d41be9325bb2455c1a01f": {
     "model_module": "@jupyter-widgets/base",
     "model_module_version": "1.2.0",
     "model_name": "LayoutModel",
     "state": {
      "_model_module": "@jupyter-widgets/base",
      "_model_module_version": "1.2.0",
      "_model_name": "LayoutModel",
      "_view_count": null,
      "_view_module": "@jupyter-widgets/base",
      "_view_module_version": "1.2.0",
      "_view_name": "LayoutView",
      "align_content": null,
      "align_items": null,
      "align_self": null,
      "border": null,
      "bottom": null,
      "display": null,
      "flex": null,
      "flex_flow": null,
      "grid_area": null,
      "grid_auto_columns": null,
      "grid_auto_flow": null,
      "grid_auto_rows": null,
      "grid_column": null,
      "grid_gap": null,
      "grid_row": null,
      "grid_template_areas": null,
      "grid_template_columns": null,
      "grid_template_rows": null,
      "height": null,
      "justify_content": null,
      "justify_items": null,
      "left": null,
      "margin": null,
      "max_height": null,
      "max_width": null,
      "min_height": null,
      "min_width": null,
      "object_fit": null,
      "object_position": null,
      "order": null,
      "overflow": null,
      "overflow_x": null,
      "overflow_y": null,
      "padding": null,
      "right": null,
      "top": null,
      "visibility": null,
      "width": null
     }
    },
    "6d7b4fd9865d4c7f8c98a9f8ba9bd7a0": {
     "model_module": "@jupyter-widgets/controls",
     "model_module_version": "1.5.0",
     "model_name": "FloatProgressModel",
     "state": {
      "_dom_classes": [],
      "_model_module": "@jupyter-widgets/controls",
      "_model_module_version": "1.5.0",
      "_model_name": "FloatProgressModel",
      "_view_count": null,
      "_view_module": "@jupyter-widgets/controls",
      "_view_module_version": "1.5.0",
      "_view_name": "ProgressView",
      "bar_style": "success",
      "description": "",
      "description_tooltip": null,
      "layout": "IPY_MODEL_2db345448c0d41be9325bb2455c1a01f",
      "max": 6338,
      "min": 0,
      "orientation": "horizontal",
      "style": "IPY_MODEL_209d24ade09245e2a4f8f3f04a0bae7a",
      "value": 6338
     }
    },
    "7ea05dd93e9648218d62c51a437c3ffe": {
     "model_module": "@jupyter-widgets/base",
     "model_module_version": "1.2.0",
     "model_name": "LayoutModel",
     "state": {
      "_model_module": "@jupyter-widgets/base",
      "_model_module_version": "1.2.0",
      "_model_name": "LayoutModel",
      "_view_count": null,
      "_view_module": "@jupyter-widgets/base",
      "_view_module_version": "1.2.0",
      "_view_name": "LayoutView",
      "align_content": null,
      "align_items": null,
      "align_self": null,
      "border": null,
      "bottom": null,
      "display": null,
      "flex": null,
      "flex_flow": null,
      "grid_area": null,
      "grid_auto_columns": null,
      "grid_auto_flow": null,
      "grid_auto_rows": null,
      "grid_column": null,
      "grid_gap": null,
      "grid_row": null,
      "grid_template_areas": null,
      "grid_template_columns": null,
      "grid_template_rows": null,
      "height": null,
      "justify_content": null,
      "justify_items": null,
      "left": null,
      "margin": null,
      "max_height": null,
      "max_width": null,
      "min_height": null,
      "min_width": null,
      "object_fit": null,
      "object_position": null,
      "order": null,
      "overflow": null,
      "overflow_x": null,
      "overflow_y": null,
      "padding": null,
      "right": null,
      "top": null,
      "visibility": null,
      "width": null
     }
    },
    "86950d65ab5545ea9c5432ebbb6f4cdc": {
     "model_module": "@jupyter-widgets/controls",
     "model_module_version": "1.5.0",
     "model_name": "DescriptionStyleModel",
     "state": {
      "_model_module": "@jupyter-widgets/controls",
      "_model_module_version": "1.5.0",
      "_model_name": "DescriptionStyleModel",
      "_view_count": null,
      "_view_module": "@jupyter-widgets/base",
      "_view_module_version": "1.2.0",
      "_view_name": "StyleView",
      "description_width": ""
     }
    },
    "9184f5746cfb48afa2dd97c6049c08b9": {
     "model_module": "@jupyter-widgets/base",
     "model_module_version": "1.2.0",
     "model_name": "LayoutModel",
     "state": {
      "_model_module": "@jupyter-widgets/base",
      "_model_module_version": "1.2.0",
      "_model_name": "LayoutModel",
      "_view_count": null,
      "_view_module": "@jupyter-widgets/base",
      "_view_module_version": "1.2.0",
      "_view_name": "LayoutView",
      "align_content": null,
      "align_items": null,
      "align_self": null,
      "border": null,
      "bottom": null,
      "display": null,
      "flex": null,
      "flex_flow": null,
      "grid_area": null,
      "grid_auto_columns": null,
      "grid_auto_flow": null,
      "grid_auto_rows": null,
      "grid_column": null,
      "grid_gap": null,
      "grid_row": null,
      "grid_template_areas": null,
      "grid_template_columns": null,
      "grid_template_rows": null,
      "height": null,
      "justify_content": null,
      "justify_items": null,
      "left": null,
      "margin": null,
      "max_height": null,
      "max_width": null,
      "min_height": null,
      "min_width": null,
      "object_fit": null,
      "object_position": null,
      "order": null,
      "overflow": null,
      "overflow_x": null,
      "overflow_y": null,
      "padding": null,
      "right": null,
      "top": null,
      "visibility": null,
      "width": null
     }
    },
    "9a7308124e564e38adfb4d1d3504bcfb": {
     "model_module": "@jupyter-widgets/controls",
     "model_module_version": "1.5.0",
     "model_name": "DescriptionStyleModel",
     "state": {
      "_model_module": "@jupyter-widgets/controls",
      "_model_module_version": "1.5.0",
      "_model_name": "DescriptionStyleModel",
      "_view_count": null,
      "_view_module": "@jupyter-widgets/base",
      "_view_module_version": "1.2.0",
      "_view_name": "StyleView",
      "description_width": ""
     }
    },
    "b14cefc9d5874ec2b39f6dc0b5a3c0c8": {
     "model_module": "@jupyter-widgets/controls",
     "model_module_version": "1.5.0",
     "model_name": "HBoxModel",
     "state": {
      "_dom_classes": [],
      "_model_module": "@jupyter-widgets/controls",
      "_model_module_version": "1.5.0",
      "_model_name": "HBoxModel",
      "_view_count": null,
      "_view_module": "@jupyter-widgets/controls",
      "_view_module_version": "1.5.0",
      "_view_name": "HBoxView",
      "box_style": "",
      "children": [
       "IPY_MODEL_c406175955194c58bf513c00d5179468",
       "IPY_MODEL_6d7b4fd9865d4c7f8c98a9f8ba9bd7a0",
       "IPY_MODEL_cda383bec8c9464dbf5ab0cbc9e9c882"
      ],
      "layout": "IPY_MODEL_7ea05dd93e9648218d62c51a437c3ffe"
     }
    },
    "c406175955194c58bf513c00d5179468": {
     "model_module": "@jupyter-widgets/controls",
     "model_module_version": "1.5.0",
     "model_name": "HTMLModel",
     "state": {
      "_dom_classes": [],
      "_model_module": "@jupyter-widgets/controls",
      "_model_module_version": "1.5.0",
      "_model_name": "HTMLModel",
      "_view_count": null,
      "_view_module": "@jupyter-widgets/controls",
      "_view_module_version": "1.5.0",
      "_view_name": "HTMLView",
      "description": "",
      "description_tooltip": null,
      "layout": "IPY_MODEL_e0bc5937184744ed8fd15dd518229a72",
      "placeholder": "​",
      "style": "IPY_MODEL_86950d65ab5545ea9c5432ebbb6f4cdc",
      "value": "Downloading builder script: 100%"
     }
    },
    "cda383bec8c9464dbf5ab0cbc9e9c882": {
     "model_module": "@jupyter-widgets/controls",
     "model_module_version": "1.5.0",
     "model_name": "HTMLModel",
     "state": {
      "_dom_classes": [],
      "_model_module": "@jupyter-widgets/controls",
      "_model_module_version": "1.5.0",
      "_model_name": "HTMLModel",
      "_view_count": null,
      "_view_module": "@jupyter-widgets/controls",
      "_view_module_version": "1.5.0",
      "_view_name": "HTMLView",
      "description": "",
      "description_tooltip": null,
      "layout": "IPY_MODEL_9184f5746cfb48afa2dd97c6049c08b9",
      "placeholder": "​",
      "style": "IPY_MODEL_9a7308124e564e38adfb4d1d3504bcfb",
      "value": " 6.34k/6.34k [00:00&lt;00:00, 136kB/s]"
     }
    },
    "e0bc5937184744ed8fd15dd518229a72": {
     "model_module": "@jupyter-widgets/base",
     "model_module_version": "1.2.0",
     "model_name": "LayoutModel",
     "state": {
      "_model_module": "@jupyter-widgets/base",
      "_model_module_version": "1.2.0",
      "_model_name": "LayoutModel",
      "_view_count": null,
      "_view_module": "@jupyter-widgets/base",
      "_view_module_version": "1.2.0",
      "_view_name": "LayoutView",
      "align_content": null,
      "align_items": null,
      "align_self": null,
      "border": null,
      "bottom": null,
      "display": null,
      "flex": null,
      "flex_flow": null,
      "grid_area": null,
      "grid_auto_columns": null,
      "grid_auto_flow": null,
      "grid_auto_rows": null,
      "grid_column": null,
      "grid_gap": null,
      "grid_row": null,
      "grid_template_areas": null,
      "grid_template_columns": null,
      "grid_template_rows": null,
      "height": null,
      "justify_content": null,
      "justify_items": null,
      "left": null,
      "margin": null,
      "max_height": null,
      "max_width": null,
      "min_height": null,
      "min_width": null,
      "object_fit": null,
      "object_position": null,
      "order": null,
      "overflow": null,
      "overflow_x": null,
      "overflow_y": null,
      "padding": null,
      "right": null,
      "top": null,
      "visibility": null,
      "width": null
     }
    }
   }
  }
 },
 "nbformat": 4,
 "nbformat_minor": 1
}
